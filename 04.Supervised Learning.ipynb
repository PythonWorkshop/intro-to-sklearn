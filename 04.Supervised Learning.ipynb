{
 "cells": [
  {
   "cell_type": "markdown",
   "metadata": {},
   "source": [
    "## Learning Algorithms - Supervised Learning\n",
    "\n",
    ">  Reminder:  All supervised estimators in scikit-learn implement a `fit(X, y)` method to fit the model and a `predict(X)` method that, given unlabeled observations X, returns the predicted labels y. (direct quote from `sklearn` docs)\n",
    "\n",
    "* Given that Iris is a fairly small, labeled dataset with relatively few features...what algorithm would you start with and why?"
   ]
  },
  {
   "cell_type": "markdown",
   "metadata": {},
   "source": [
    "> \"Often the hardest part of solving a machine learning problem can be finding the right estimator for the job.\"\n",
    "\n",
    "> \"Different estimators are better suited for different types of data and different problems.\"\n",
    "\n",
    "<a href = \"http://scikit-learn.org/stable/tutorial/machine_learning_map/index.html\" style = \"float: right\">-Choosing the Right Estimator from sklearn docs</a>\n"
   ]
  },
  {
   "cell_type": "code",
   "execution_count": null,
   "metadata": {
    "collapsed": true
   },
   "outputs": [],
   "source": [
    "# Imports for python 2/3 compatibility\n",
    "\n",
    "from __future__ import absolute_import, division, print_function, unicode_literals\n",
    "\n",
    "# For python 2, comment these out:\n",
    "# from builtins import range"
   ]
  },
  {
   "cell_type": "markdown",
   "metadata": {},
   "source": [
    "<b>An estimator for recognizing a new iris from its measurements</b>\n",
    "\n",
    "> Or, in machine learning parlance, we <i>fit</i> an estimator on known samples of the iris measurements to <i>predict</i> the class to which an unseen iris belongs.\n",
    "\n",
    "Let's give it a try!  (We are actually going to hold out a small percentage of the `iris` dataset and check our predictions against the labels)"
   ]
  },
  {
   "cell_type": "code",
   "execution_count": 1,
   "metadata": {
    "collapsed": false
   },
   "outputs": [],
   "source": [
    "from sklearn.datasets import load_iris\n",
    "from sklearn.model_selection import train_test_split\n",
    "\n",
    "# Let's load the iris dataset\n",
    "iris = load_iris()\n",
    "X, y = iris.data, iris.target\n",
    "\n",
    "# split data into training and test sets using the handy train_test_split func\n",
    "# in this split, we are \"holding out\" only one value and label (placed into X_test and y_test)\n",
    "X_train, X_test, y_train, y_test = train_test_split(X, y, test_size = 0.3)"
   ]
  },
  {
   "cell_type": "code",
   "execution_count": null,
   "metadata": {
    "collapsed": false
   },
   "outputs": [],
   "source": [
    "# Let's try a decision tree classification method\n",
    "from sklearn import tree\n",
    "\n",
    "t = tree.DecisionTreeClassifier(max_depth = 4,\n",
    "                                    criterion = 'entropy', \n",
    "                                    class_weight = 'balanced',\n",
    "                                    random_state = 2)\n",
    "t.fit(X_train, y_train)\n",
    "\n",
    "t.score(X_test, y_test) # what performance metric is this?"
   ]
  },
  {
   "cell_type": "code",
   "execution_count": null,
   "metadata": {
    "collapsed": false
   },
   "outputs": [],
   "source": [
    "# What was the label associated with this test sample? (\"held out\" sample's original label)\n",
    "# Let's predict on our \"held out\" sample\n",
    "y_pred = t.predict(X_test)\n",
    "print(y_pred)\n",
    "\n",
    "#  fill in the blank below\n",
    "\n",
    "# how did our prediction do for first sample in test dataset?\n",
    "print(\"Prediction: %d, Original label: %d\" % (y_pred[0], ___)) # <-- fill in blank"
   ]
  },
  {
   "cell_type": "code",
   "execution_count": null,
   "metadata": {
    "collapsed": false
   },
   "outputs": [],
   "source": [
    "# Here's a nifty way to cross-validate (useful for quick model evaluation!)\n",
    "from sklearn import model_selection\n",
    "\n",
    "t = tree.DecisionTreeClassifier(max_depth = 4,\n",
    "                                    criterion = 'entropy', \n",
    "                                    class_weight = 'balanced',\n",
    "                                    random_state = 2)\n",
    "\n",
    "# splits, fits and predicts all in one with a score (does this multiple times)\n",
    "score = model_selection.cross_val_score(t, X, y)\n",
    "score"
   ]
  },
  {
   "cell_type": "markdown",
   "metadata": {
    "collapsed": true
   },
   "source": [
    "QUESTIONS:  What do these scores tell you?  Are they too high or too low you think?  If it's 1.0, what does that mean?"
   ]
  },
  {
   "cell_type": "markdown",
   "metadata": {},
   "source": [
    "### What does the graph look like for this decision tree?  i.e. what are the \"questions\" and \"decisions\" for this tree...\n",
    "* Note:  You need both Graphviz app and the python package `graphviz` (It's worth it for this cool decision tree graph, I promise!)\n",
    "* To install both on OS X:\n",
    "```\n",
    "sudo port install graphviz\n",
    "sudo pip install graphviz\n",
    "```\n",
    "* For general Installation see [this guide](http://graphviz.readthedocs.org/en/latest/manual.html)"
   ]
  },
  {
   "cell_type": "code",
   "execution_count": 2,
   "metadata": {
    "collapsed": false
   },
   "outputs": [
    {
     "data": {
      "image/svg+xml": [
       "<?xml version=\"1.0\" encoding=\"UTF-8\" standalone=\"no\"?>\n",
       "<!DOCTYPE svg PUBLIC \"-//W3C//DTD SVG 1.1//EN\"\n",
       " \"http://www.w3.org/Graphics/SVG/1.1/DTD/svg11.dtd\">\n",
       "<!-- Generated by graphviz version 2.38.0 (20140413.2041)\n",
       " -->\n",
       "<!-- Title: Tree Pages: 1 -->\n",
       "<svg width=\"811pt\" height=\"552pt\"\n",
       " viewBox=\"0.00 0.00 811.00 552.00\" xmlns=\"http://www.w3.org/2000/svg\" xmlns:xlink=\"http://www.w3.org/1999/xlink\">\n",
       "<g id=\"graph0\" class=\"graph\" transform=\"scale(1 1) rotate(0) translate(4 548)\">\n",
       "<title>Tree</title>\n",
       "<polygon fill=\"white\" stroke=\"none\" points=\"-4,4 -4,-548 807,-548 807,4 -4,4\"/>\n",
       "<!-- 0 -->\n",
       "<g id=\"node1\" class=\"node\"><title>0</title>\n",
       "<path fill=\"none\" stroke=\"black\" d=\"M385,-544C385,-544 238,-544 238,-544 232,-544 226,-538 226,-532 226,-532 226,-473 226,-473 226,-467 232,-461 238,-461 238,-461 385,-461 385,-461 391,-461 397,-467 397,-473 397,-473 397,-532 397,-532 397,-538 391,-544 385,-544\"/>\n",
       "<text text-anchor=\"start\" x=\"244.5\" y=\"-528.8\" font-family=\"Helvetica,sans-Serif\" font-size=\"14.00\">petal width (cm) ≤ 0.8</text>\n",
       "<text text-anchor=\"start\" x=\"262.5\" y=\"-513.8\" font-family=\"Helvetica,sans-Serif\" font-size=\"14.00\">entropy = 1.585</text>\n",
       "<text text-anchor=\"start\" x=\"265.5\" y=\"-498.8\" font-family=\"Helvetica,sans-Serif\" font-size=\"14.00\">samples = 105</text>\n",
       "<text text-anchor=\"start\" x=\"234\" y=\"-483.8\" font-family=\"Helvetica,sans-Serif\" font-size=\"14.00\">value = [35.0, 35.0, 35.0]</text>\n",
       "<text text-anchor=\"start\" x=\"266.5\" y=\"-468.8\" font-family=\"Helvetica,sans-Serif\" font-size=\"14.00\">class = setosa</text>\n",
       "</g>\n",
       "<!-- 1 -->\n",
       "<g id=\"node2\" class=\"node\"><title>1</title>\n",
       "<path fill=\"#e58139\" stroke=\"black\" d=\"M289,-417.5C289,-417.5 158,-417.5 158,-417.5 152,-417.5 146,-411.5 146,-405.5 146,-405.5 146,-361.5 146,-361.5 146,-355.5 152,-349.5 158,-349.5 158,-349.5 289,-349.5 289,-349.5 295,-349.5 301,-355.5 301,-361.5 301,-361.5 301,-405.5 301,-405.5 301,-411.5 295,-417.5 289,-417.5\"/>\n",
       "<text text-anchor=\"start\" x=\"182\" y=\"-402.3\" font-family=\"Helvetica,sans-Serif\" font-size=\"14.00\">entropy = 0.0</text>\n",
       "<text text-anchor=\"start\" x=\"181.5\" y=\"-387.3\" font-family=\"Helvetica,sans-Serif\" font-size=\"14.00\">samples = 38</text>\n",
       "<text text-anchor=\"start\" x=\"154\" y=\"-372.3\" font-family=\"Helvetica,sans-Serif\" font-size=\"14.00\">value = [35.0, 0.0, 0.0]</text>\n",
       "<text text-anchor=\"start\" x=\"178.5\" y=\"-357.3\" font-family=\"Helvetica,sans-Serif\" font-size=\"14.00\">class = setosa</text>\n",
       "</g>\n",
       "<!-- 0&#45;&gt;1 -->\n",
       "<g id=\"edge1\" class=\"edge\"><title>0&#45;&gt;1</title>\n",
       "<path fill=\"none\" stroke=\"black\" d=\"M280.969,-460.907C272.42,-449.542 263.121,-437.178 254.544,-425.774\"/>\n",
       "<polygon fill=\"black\" stroke=\"black\" points=\"257.254,-423.555 248.446,-417.667 251.66,-427.763 257.254,-423.555\"/>\n",
       "<text text-anchor=\"middle\" x=\"244.944\" y=\"-438.72\" font-family=\"Helvetica,sans-Serif\" font-size=\"14.00\">True</text>\n",
       "</g>\n",
       "<!-- 2 -->\n",
       "<g id=\"node3\" class=\"node\"><title>2</title>\n",
       "<path fill=\"none\" stroke=\"black\" d=\"M470,-425C470,-425 331,-425 331,-425 325,-425 319,-419 319,-413 319,-413 319,-354 319,-354 319,-348 325,-342 331,-342 331,-342 470,-342 470,-342 476,-342 482,-348 482,-354 482,-354 482,-413 482,-413 482,-419 476,-425 470,-425\"/>\n",
       "<text text-anchor=\"start\" x=\"329.5\" y=\"-409.8\" font-family=\"Helvetica,sans-Serif\" font-size=\"14.00\">petal width (cm) ≤ 1.65</text>\n",
       "<text text-anchor=\"start\" x=\"359\" y=\"-394.8\" font-family=\"Helvetica,sans-Serif\" font-size=\"14.00\">entropy = 1.0</text>\n",
       "<text text-anchor=\"start\" x=\"358.5\" y=\"-379.8\" font-family=\"Helvetica,sans-Serif\" font-size=\"14.00\">samples = 67</text>\n",
       "<text text-anchor=\"start\" x=\"327\" y=\"-364.8\" font-family=\"Helvetica,sans-Serif\" font-size=\"14.00\">value = [0.0, 35.0, 35.0]</text>\n",
       "<text text-anchor=\"start\" x=\"350.5\" y=\"-349.8\" font-family=\"Helvetica,sans-Serif\" font-size=\"14.00\">class = virginica</text>\n",
       "</g>\n",
       "<!-- 0&#45;&gt;2 -->\n",
       "<g id=\"edge2\" class=\"edge\"><title>0&#45;&gt;2</title>\n",
       "<path fill=\"none\" stroke=\"black\" d=\"M342.378,-460.907C349.212,-451.923 356.521,-442.315 363.569,-433.05\"/>\n",
       "<polygon fill=\"black\" stroke=\"black\" points=\"366.408,-435.099 369.676,-425.021 360.836,-430.861 366.408,-435.099\"/>\n",
       "<text text-anchor=\"middle\" x=\"373.044\" y=\"-446.093\" font-family=\"Helvetica,sans-Serif\" font-size=\"14.00\">False</text>\n",
       "</g>\n",
       "<!-- 3 -->\n",
       "<g id=\"node4\" class=\"node\"><title>3</title>\n",
       "<path fill=\"#39e581\" fill-opacity=\"0.901961\" stroke=\"black\" d=\"M379.5,-306C379.5,-306 201.5,-306 201.5,-306 195.5,-306 189.5,-300 189.5,-294 189.5,-294 189.5,-235 189.5,-235 189.5,-229 195.5,-223 201.5,-223 201.5,-223 379.5,-223 379.5,-223 385.5,-223 391.5,-229 391.5,-235 391.5,-235 391.5,-294 391.5,-294 391.5,-300 385.5,-306 379.5,-306\"/>\n",
       "<text text-anchor=\"start\" x=\"217\" y=\"-290.8\" font-family=\"Helvetica,sans-Serif\" font-size=\"14.00\">petal length (cm) ≤ 4.95</text>\n",
       "<text text-anchor=\"start\" x=\"237.5\" y=\"-275.8\" font-family=\"Helvetica,sans-Serif\" font-size=\"14.00\">entropy = 0.4382</text>\n",
       "<text text-anchor=\"start\" x=\"248.5\" y=\"-260.8\" font-family=\"Helvetica,sans-Serif\" font-size=\"14.00\">samples = 38</text>\n",
       "<text text-anchor=\"start\" x=\"197.5\" y=\"-245.8\" font-family=\"Helvetica,sans-Serif\" font-size=\"14.00\">value = [0.0, 34.0278, 3.3871]</text>\n",
       "<text text-anchor=\"start\" x=\"236.5\" y=\"-230.8\" font-family=\"Helvetica,sans-Serif\" font-size=\"14.00\">class = versicolor</text>\n",
       "</g>\n",
       "<!-- 2&#45;&gt;3 -->\n",
       "<g id=\"edge3\" class=\"edge\"><title>2&#45;&gt;3</title>\n",
       "<path fill=\"none\" stroke=\"black\" d=\"M362.336,-341.907C353.719,-332.742 344.491,-322.927 335.618,-313.489\"/>\n",
       "<polygon fill=\"black\" stroke=\"black\" points=\"337.996,-310.909 328.596,-306.021 332.896,-315.704 337.996,-310.909\"/>\n",
       "</g>\n",
       "<!-- 8 -->\n",
       "<g id=\"node9\" class=\"node\"><title>8</title>\n",
       "<path fill=\"#8139e5\" fill-opacity=\"0.968627\" stroke=\"black\" d=\"M599.5,-306C599.5,-306 421.5,-306 421.5,-306 415.5,-306 409.5,-300 409.5,-294 409.5,-294 409.5,-235 409.5,-235 409.5,-229 415.5,-223 421.5,-223 421.5,-223 599.5,-223 599.5,-223 605.5,-223 611.5,-229 611.5,-235 611.5,-235 611.5,-294 611.5,-294 611.5,-300 605.5,-306 599.5,-306\"/>\n",
       "<text text-anchor=\"start\" x=\"437\" y=\"-290.8\" font-family=\"Helvetica,sans-Serif\" font-size=\"14.00\">petal length (cm) ≤ 4.85</text>\n",
       "<text text-anchor=\"start\" x=\"457.5\" y=\"-275.8\" font-family=\"Helvetica,sans-Serif\" font-size=\"14.00\">entropy = 0.1936</text>\n",
       "<text text-anchor=\"start\" x=\"468.5\" y=\"-260.8\" font-family=\"Helvetica,sans-Serif\" font-size=\"14.00\">samples = 29</text>\n",
       "<text text-anchor=\"start\" x=\"417.5\" y=\"-245.8\" font-family=\"Helvetica,sans-Serif\" font-size=\"14.00\">value = [0.0, 0.9722, 31.6129]</text>\n",
       "<text text-anchor=\"start\" x=\"460.5\" y=\"-230.8\" font-family=\"Helvetica,sans-Serif\" font-size=\"14.00\">class = virginica</text>\n",
       "</g>\n",
       "<!-- 2&#45;&gt;8 -->\n",
       "<g id=\"edge8\" class=\"edge\"><title>2&#45;&gt;8</title>\n",
       "<path fill=\"none\" stroke=\"black\" d=\"M438.664,-341.907C447.281,-332.742 456.509,-322.927 465.382,-313.489\"/>\n",
       "<polygon fill=\"black\" stroke=\"black\" points=\"468.104,-315.704 472.404,-306.021 463.004,-310.909 468.104,-315.704\"/>\n",
       "</g>\n",
       "<!-- 4 -->\n",
       "<g id=\"node5\" class=\"node\"><title>4</title>\n",
       "<path fill=\"#39e581\" stroke=\"black\" d=\"M167,-179.5C167,-179.5 12,-179.5 12,-179.5 6,-179.5 0,-173.5 0,-167.5 0,-167.5 0,-123.5 0,-123.5 0,-117.5 6,-111.5 12,-111.5 12,-111.5 167,-111.5 167,-111.5 173,-111.5 179,-117.5 179,-123.5 179,-123.5 179,-167.5 179,-167.5 179,-173.5 173,-179.5 167,-179.5\"/>\n",
       "<text text-anchor=\"start\" x=\"48\" y=\"-164.3\" font-family=\"Helvetica,sans-Serif\" font-size=\"14.00\">entropy = 0.0</text>\n",
       "<text text-anchor=\"start\" x=\"47.5\" y=\"-149.3\" font-family=\"Helvetica,sans-Serif\" font-size=\"14.00\">samples = 34</text>\n",
       "<text text-anchor=\"start\" x=\"8\" y=\"-134.3\" font-family=\"Helvetica,sans-Serif\" font-size=\"14.00\">value = [0.0, 33.0556, 0.0]</text>\n",
       "<text text-anchor=\"start\" x=\"35.5\" y=\"-119.3\" font-family=\"Helvetica,sans-Serif\" font-size=\"14.00\">class = versicolor</text>\n",
       "</g>\n",
       "<!-- 3&#45;&gt;4 -->\n",
       "<g id=\"edge4\" class=\"edge\"><title>3&#45;&gt;4</title>\n",
       "<path fill=\"none\" stroke=\"black\" d=\"M220.764,-222.907C199.533,-210.549 176.274,-197.01 155.31,-184.807\"/>\n",
       "<polygon fill=\"black\" stroke=\"black\" points=\"156.882,-181.673 146.479,-179.667 153.361,-187.723 156.882,-181.673\"/>\n",
       "</g>\n",
       "<!-- 5 -->\n",
       "<g id=\"node6\" class=\"node\"><title>5</title>\n",
       "<path fill=\"#8139e5\" fill-opacity=\"0.713725\" stroke=\"black\" d=\"M379.5,-187C379.5,-187 209.5,-187 209.5,-187 203.5,-187 197.5,-181 197.5,-175 197.5,-175 197.5,-116 197.5,-116 197.5,-110 203.5,-104 209.5,-104 209.5,-104 379.5,-104 379.5,-104 385.5,-104 391.5,-110 391.5,-116 391.5,-116 391.5,-175 391.5,-175 391.5,-181 385.5,-187 379.5,-187\"/>\n",
       "<text text-anchor=\"start\" x=\"223.5\" y=\"-171.8\" font-family=\"Helvetica,sans-Serif\" font-size=\"14.00\">petal width (cm) ≤ 1.55</text>\n",
       "<text text-anchor=\"start\" x=\"241.5\" y=\"-156.8\" font-family=\"Helvetica,sans-Serif\" font-size=\"14.00\">entropy = 0.7656</text>\n",
       "<text text-anchor=\"start\" x=\"256.5\" y=\"-141.8\" font-family=\"Helvetica,sans-Serif\" font-size=\"14.00\">samples = 4</text>\n",
       "<text text-anchor=\"start\" x=\"205.5\" y=\"-126.8\" font-family=\"Helvetica,sans-Serif\" font-size=\"14.00\">value = [0.0, 0.9722, 3.3871]</text>\n",
       "<text text-anchor=\"start\" x=\"244.5\" y=\"-111.8\" font-family=\"Helvetica,sans-Serif\" font-size=\"14.00\">class = virginica</text>\n",
       "</g>\n",
       "<!-- 3&#45;&gt;5 -->\n",
       "<g id=\"edge5\" class=\"edge\"><title>3&#45;&gt;5</title>\n",
       "<path fill=\"none\" stroke=\"black\" d=\"M291.888,-222.907C292.173,-214.558 292.477,-205.671 292.773,-197.02\"/>\n",
       "<polygon fill=\"black\" stroke=\"black\" points=\"296.271,-197.135 293.115,-187.021 289.275,-196.895 296.271,-197.135\"/>\n",
       "</g>\n",
       "<!-- 6 -->\n",
       "<g id=\"node7\" class=\"node\"><title>6</title>\n",
       "<path fill=\"#8139e5\" stroke=\"black\" d=\"M185,-68C185,-68 38,-68 38,-68 32,-68 26,-62 26,-56 26,-56 26,-12 26,-12 26,-6 32,-0 38,-0 38,-0 185,-0 185,-0 191,-0 197,-6 197,-12 197,-12 197,-56 197,-56 197,-62 191,-68 185,-68\"/>\n",
       "<text text-anchor=\"start\" x=\"68\" y=\"-52.8\" font-family=\"Helvetica,sans-Serif\" font-size=\"14.00\">entropy = &#45;0.0</text>\n",
       "<text text-anchor=\"start\" x=\"73.5\" y=\"-37.8\" font-family=\"Helvetica,sans-Serif\" font-size=\"14.00\">samples = 3</text>\n",
       "<text text-anchor=\"start\" x=\"34\" y=\"-22.8\" font-family=\"Helvetica,sans-Serif\" font-size=\"14.00\">value = [0.0, 0.0, 3.3871]</text>\n",
       "<text text-anchor=\"start\" x=\"61.5\" y=\"-7.8\" font-family=\"Helvetica,sans-Serif\" font-size=\"14.00\">class = virginica</text>\n",
       "</g>\n",
       "<!-- 5&#45;&gt;6 -->\n",
       "<g id=\"edge6\" class=\"edge\"><title>5&#45;&gt;6</title>\n",
       "<path fill=\"none\" stroke=\"black\" d=\"M226.618,-103.882C209.968,-93.9191 192.197,-83.2862 175.725,-73.4299\"/>\n",
       "<polygon fill=\"black\" stroke=\"black\" points=\"177.101,-70.1746 166.723,-68.0433 173.507,-76.1814 177.101,-70.1746\"/>\n",
       "</g>\n",
       "<!-- 7 -->\n",
       "<g id=\"node8\" class=\"node\"><title>7</title>\n",
       "<path fill=\"#39e581\" stroke=\"black\" d=\"M374,-68C374,-68 227,-68 227,-68 221,-68 215,-62 215,-56 215,-56 215,-12 215,-12 215,-6 221,-0 227,-0 227,-0 374,-0 374,-0 380,-0 386,-6 386,-12 386,-12 386,-56 386,-56 386,-62 380,-68 374,-68\"/>\n",
       "<text text-anchor=\"start\" x=\"259\" y=\"-52.8\" font-family=\"Helvetica,sans-Serif\" font-size=\"14.00\">entropy = 0.0</text>\n",
       "<text text-anchor=\"start\" x=\"262.5\" y=\"-37.8\" font-family=\"Helvetica,sans-Serif\" font-size=\"14.00\">samples = 1</text>\n",
       "<text text-anchor=\"start\" x=\"223\" y=\"-22.8\" font-family=\"Helvetica,sans-Serif\" font-size=\"14.00\">value = [0.0, 0.9722, 0.0]</text>\n",
       "<text text-anchor=\"start\" x=\"246.5\" y=\"-7.8\" font-family=\"Helvetica,sans-Serif\" font-size=\"14.00\">class = versicolor</text>\n",
       "</g>\n",
       "<!-- 5&#45;&gt;7 -->\n",
       "<g id=\"edge7\" class=\"edge\"><title>5&#45;&gt;7</title>\n",
       "<path fill=\"none\" stroke=\"black\" d=\"M296.734,-103.726C297.184,-95.5175 297.658,-86.8595 298.113,-78.56\"/>\n",
       "<polygon fill=\"black\" stroke=\"black\" points=\"301.623,-78.4761 298.675,-68.2996 294.633,-78.0931 301.623,-78.4761\"/>\n",
       "</g>\n",
       "<!-- 9 -->\n",
       "<g id=\"node10\" class=\"node\"><title>9</title>\n",
       "<path fill=\"#8139e5\" fill-opacity=\"0.713725\" stroke=\"black\" d=\"M593.5,-187C593.5,-187 423.5,-187 423.5,-187 417.5,-187 411.5,-181 411.5,-175 411.5,-175 411.5,-116 411.5,-116 411.5,-110 417.5,-104 423.5,-104 423.5,-104 593.5,-104 593.5,-104 599.5,-104 605.5,-110 605.5,-116 605.5,-116 605.5,-175 605.5,-175 605.5,-181 599.5,-187 593.5,-187\"/>\n",
       "<text text-anchor=\"start\" x=\"440\" y=\"-171.8\" font-family=\"Helvetica,sans-Serif\" font-size=\"14.00\">sepal width (cm) ≤ 3.1</text>\n",
       "<text text-anchor=\"start\" x=\"455.5\" y=\"-156.8\" font-family=\"Helvetica,sans-Serif\" font-size=\"14.00\">entropy = 0.7656</text>\n",
       "<text text-anchor=\"start\" x=\"470.5\" y=\"-141.8\" font-family=\"Helvetica,sans-Serif\" font-size=\"14.00\">samples = 4</text>\n",
       "<text text-anchor=\"start\" x=\"419.5\" y=\"-126.8\" font-family=\"Helvetica,sans-Serif\" font-size=\"14.00\">value = [0.0, 0.9722, 3.3871]</text>\n",
       "<text text-anchor=\"start\" x=\"458.5\" y=\"-111.8\" font-family=\"Helvetica,sans-Serif\" font-size=\"14.00\">class = virginica</text>\n",
       "</g>\n",
       "<!-- 8&#45;&gt;9 -->\n",
       "<g id=\"edge9\" class=\"edge\"><title>8&#45;&gt;9</title>\n",
       "<path fill=\"none\" stroke=\"black\" d=\"M509.806,-222.907C509.663,-214.558 509.511,-205.671 509.364,-197.02\"/>\n",
       "<polygon fill=\"black\" stroke=\"black\" points=\"512.863,-196.959 509.193,-187.021 505.864,-197.079 512.863,-196.959\"/>\n",
       "</g>\n",
       "<!-- 12 -->\n",
       "<g id=\"node13\" class=\"node\"><title>12</title>\n",
       "<path fill=\"#8139e5\" stroke=\"black\" d=\"M791,-179.5C791,-179.5 636,-179.5 636,-179.5 630,-179.5 624,-173.5 624,-167.5 624,-167.5 624,-123.5 624,-123.5 624,-117.5 630,-111.5 636,-111.5 636,-111.5 791,-111.5 791,-111.5 797,-111.5 803,-117.5 803,-123.5 803,-123.5 803,-167.5 803,-167.5 803,-173.5 797,-179.5 791,-179.5\"/>\n",
       "<text text-anchor=\"start\" x=\"672\" y=\"-164.3\" font-family=\"Helvetica,sans-Serif\" font-size=\"14.00\">entropy = 0.0</text>\n",
       "<text text-anchor=\"start\" x=\"671.5\" y=\"-149.3\" font-family=\"Helvetica,sans-Serif\" font-size=\"14.00\">samples = 25</text>\n",
       "<text text-anchor=\"start\" x=\"632\" y=\"-134.3\" font-family=\"Helvetica,sans-Serif\" font-size=\"14.00\">value = [0.0, 0.0, 28.2258]</text>\n",
       "<text text-anchor=\"start\" x=\"663.5\" y=\"-119.3\" font-family=\"Helvetica,sans-Serif\" font-size=\"14.00\">class = virginica</text>\n",
       "</g>\n",
       "<!-- 8&#45;&gt;12 -->\n",
       "<g id=\"edge12\" class=\"edge\"><title>8&#45;&gt;12</title>\n",
       "<path fill=\"none\" stroke=\"black\" d=\"M580.93,-222.907C602.373,-210.549 625.863,-197.01 647.035,-184.807\"/>\n",
       "<polygon fill=\"black\" stroke=\"black\" points=\"649.038,-187.693 655.954,-179.667 645.542,-181.628 649.038,-187.693\"/>\n",
       "</g>\n",
       "<!-- 10 -->\n",
       "<g id=\"node11\" class=\"node\"><title>10</title>\n",
       "<path fill=\"#8139e5\" stroke=\"black\" d=\"M575,-68C575,-68 428,-68 428,-68 422,-68 416,-62 416,-56 416,-56 416,-12 416,-12 416,-6 422,-0 428,-0 428,-0 575,-0 575,-0 581,-0 587,-6 587,-12 587,-12 587,-56 587,-56 587,-62 581,-68 575,-68\"/>\n",
       "<text text-anchor=\"start\" x=\"460\" y=\"-52.8\" font-family=\"Helvetica,sans-Serif\" font-size=\"14.00\">entropy = 0.0</text>\n",
       "<text text-anchor=\"start\" x=\"463.5\" y=\"-37.8\" font-family=\"Helvetica,sans-Serif\" font-size=\"14.00\">samples = 3</text>\n",
       "<text text-anchor=\"start\" x=\"424\" y=\"-22.8\" font-family=\"Helvetica,sans-Serif\" font-size=\"14.00\">value = [0.0, 0.0, 3.3871]</text>\n",
       "<text text-anchor=\"start\" x=\"451.5\" y=\"-7.8\" font-family=\"Helvetica,sans-Serif\" font-size=\"14.00\">class = virginica</text>\n",
       "</g>\n",
       "<!-- 9&#45;&gt;10 -->\n",
       "<g id=\"edge10\" class=\"edge\"><title>9&#45;&gt;10</title>\n",
       "<path fill=\"none\" stroke=\"black\" d=\"M505.893,-103.726C505.363,-95.4263 504.803,-86.6671 504.267,-78.2834\"/>\n",
       "<polygon fill=\"black\" stroke=\"black\" points=\"507.76,-78.0559 503.629,-68.2996 500.774,-78.5025 507.76,-78.0559\"/>\n",
       "</g>\n",
       "<!-- 11 -->\n",
       "<g id=\"node12\" class=\"node\"><title>11</title>\n",
       "<path fill=\"#39e581\" stroke=\"black\" d=\"M764,-68C764,-68 617,-68 617,-68 611,-68 605,-62 605,-56 605,-56 605,-12 605,-12 605,-6 611,-0 617,-0 617,-0 764,-0 764,-0 770,-0 776,-6 776,-12 776,-12 776,-56 776,-56 776,-62 770,-68 764,-68\"/>\n",
       "<text text-anchor=\"start\" x=\"649\" y=\"-52.8\" font-family=\"Helvetica,sans-Serif\" font-size=\"14.00\">entropy = 0.0</text>\n",
       "<text text-anchor=\"start\" x=\"652.5\" y=\"-37.8\" font-family=\"Helvetica,sans-Serif\" font-size=\"14.00\">samples = 1</text>\n",
       "<text text-anchor=\"start\" x=\"613\" y=\"-22.8\" font-family=\"Helvetica,sans-Serif\" font-size=\"14.00\">value = [0.0, 0.9722, 0.0]</text>\n",
       "<text text-anchor=\"start\" x=\"636.5\" y=\"-7.8\" font-family=\"Helvetica,sans-Serif\" font-size=\"14.00\">class = versicolor</text>\n",
       "</g>\n",
       "<!-- 9&#45;&gt;11 -->\n",
       "<g id=\"edge11\" class=\"edge\"><title>9&#45;&gt;11</title>\n",
       "<path fill=\"none\" stroke=\"black\" d=\"M576.011,-103.882C592.571,-93.9191 610.243,-83.2862 626.626,-73.4299\"/>\n",
       "<polygon fill=\"black\" stroke=\"black\" points=\"628.814,-76.1977 635.579,-68.0433 625.206,-70.1997 628.814,-76.1977\"/>\n",
       "</g>\n",
       "</g>\n",
       "</svg>\n"
      ],
      "text/plain": [
       "<graphviz.files.Source at 0x1005cc240>"
      ]
     },
     "execution_count": 2,
     "metadata": {},
     "output_type": "execute_result"
    }
   ],
   "source": [
    "from sklearn.tree import export_graphviz\n",
    "import graphviz\n",
    "\n",
    "# Let's rerun the decision tree classifier\n",
    "from sklearn import tree\n",
    "\n",
    "t = tree.DecisionTreeClassifier(max_depth = 4,\n",
    "                                    criterion = 'entropy', \n",
    "                                    class_weight = 'balanced',\n",
    "                                    random_state = 2)\n",
    "t.fit(X_train, y_train)\n",
    "\n",
    "t.score(X_test, y_test) # what performance metric is this?\n",
    "\n",
    "export_graphviz(t, out_file=\"mytree.dot\",  \n",
    "                         feature_names=iris.feature_names,  \n",
    "                         class_names=iris.target_names,  \n",
    "                         filled=True, rounded=True,  \n",
    "                         special_characters=True)\n",
    "\n",
    "with open(\"mytree.dot\") as f:\n",
    "    dot_graph = f.read()\n",
    "\n",
    "graphviz.Source(dot_graph, format = 'png')"
   ]
  },
  {
   "cell_type": "markdown",
   "metadata": {},
   "source": [
    "### From Decision Tree to Random Forest"
   ]
  },
  {
   "cell_type": "code",
   "execution_count": null,
   "metadata": {
    "collapsed": false
   },
   "outputs": [],
   "source": [
    "from sklearn.datasets import load_iris\n",
    "import pandas as pd\n",
    "import numpy as np\n",
    "\n",
    "iris = load_iris()\n",
    "X, y = iris.data, iris.target\n",
    "X_train, X_test, y_train, y_test = train_test_split(X, y, test_size = 0.3)"
   ]
  },
  {
   "cell_type": "code",
   "execution_count": null,
   "metadata": {
    "collapsed": false
   },
   "outputs": [],
   "source": [
    "from sklearn.ensemble import RandomForestClassifier\n",
    "\n",
    "forest = RandomForestClassifier(max_depth=4,\n",
    "                                criterion = 'entropy', \n",
    "                                n_estimators = 100, \n",
    "                                class_weight = 'balanced',\n",
    "                                n_jobs = -1,\n",
    "                               random_state = 2)\n",
    "\n",
    "#forest = RandomForestClassifier()\n",
    "forest.fit(X_train, y_train)\n",
    "\n",
    "y_preds = iris.target_names[forest.predict(X_test)]\n",
    "\n",
    "forest.score(X_test, y_test)"
   ]
  },
  {
   "cell_type": "code",
   "execution_count": null,
   "metadata": {
    "collapsed": false
   },
   "outputs": [],
   "source": [
    "# Here's a nifty way to cross-validate (useful for model evaluation!)\n",
    "from sklearn import model_selection\n",
    "\n",
    "# reinitialize classifier\n",
    "forest = RandomForestClassifier(max_depth=4,\n",
    "                                criterion = 'entropy', \n",
    "                                n_estimators = 100, \n",
    "                                class_weight = 'balanced',\n",
    "                                n_jobs = -1,\n",
    "                               random_state = 2)\n",
    "\n",
    "score = model_selection.cross_val_score(forest, X, y)\n",
    "score"
   ]
  },
  {
   "cell_type": "markdown",
   "metadata": {},
   "source": [
    "QUESTION:  Comparing to the decision tree method, what do these accuracy scores tell you?  Do they seem more reasonable?"
   ]
  },
  {
   "cell_type": "markdown",
   "metadata": {},
   "source": [
    "### Splitting into train and test set vs. cross-validation"
   ]
  },
  {
   "cell_type": "markdown",
   "metadata": {},
   "source": [
    "<p>We can be explicit and use the `train_test_split` method in scikit-learn ( [train_test_split](http://scikit-learn.org/stable/modules/generated/sklearn.cross_validation.train_test_split.html) ) as in (and as shown above for `iris` data):<p>\n",
    "\n",
    "```python\n",
    "# Create some data by hand and place 70% into a training set and the rest into a test set\n",
    "# Here we are using labeled features (X - feature data, y - labels) in our made-up data\n",
    "import numpy as np\n",
    "from sklearn import linear_model\n",
    "from sklearn.cross_validation import train_test_split\n",
    "X, y = np.arange(10).reshape((5, 2)), range(5)\n",
    "X_train, X_test, y_train, y_test = train_test_split(X, y, train_size = 0.70)\n",
    "clf = linear_model.LinearRegression()\n",
    "clf.fit(X_train, y_train)\n",
    "```\n",
    "\n",
    "OR\n",
    "\n",
    "Be more concise and\n",
    "\n",
    "```python\n",
    "import numpy as np\n",
    "from sklearn import cross_validation, linear_model\n",
    "X, y = np.arange(10).reshape((5, 2)), range(5)\n",
    "clf = linear_model.LinearRegression()\n",
    "score = cross_validation.cross_val_score(clf, X, y)\n",
    "```\n",
    "\n",
    "<p>There is also a `cross_val_predict` method to create estimates rather than scores and is very useful for cross-validation to evaluate models ( [cross_val_predict](http://scikit-learn.org/stable/modules/generated/sklearn.cross_validation.cross_val_predict.html) )"
   ]
  },
  {
   "cell_type": "markdown",
   "metadata": {},
   "source": [
    "Created by a Microsoft Employee.\n",
    "\t\n",
    "The MIT License (MIT)<br>\n",
    "Copyright (c) 2016 Micheleen Harris"
   ]
  }
 ],
 "metadata": {
  "kernelspec": {
   "display_name": "Python 3",
   "language": "python",
   "name": "python3"
  },
  "language_info": {
   "codemirror_mode": {
    "name": "ipython",
    "version": 3
   },
   "file_extension": ".py",
   "mimetype": "text/x-python",
   "name": "python",
   "nbconvert_exporter": "python",
   "pygments_lexer": "ipython3",
   "version": "3.4.3"
  }
 },
 "nbformat": 4,
 "nbformat_minor": 0
}
